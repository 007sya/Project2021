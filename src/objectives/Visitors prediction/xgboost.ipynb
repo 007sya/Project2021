{
  "nbformat": 4,
  "nbformat_minor": 0,
  "metadata": {
    "colab": {
      "name": "xgboost.ipynb",
      "provenance": [],
      "collapsed_sections": []
    },
    "kernelspec": {
      "name": "python3",
      "display_name": "Python 3"
    },
    "language_info": {
      "name": "python"
    }
  },
  "cells": [
    {
      "cell_type": "code",
      "metadata": {
        "id": "FS9JbpACCOLH"
      },
      "source": [
        "from xgboost import XGBRegressor\n",
        "import xgboost as xgb\n",
        "import pandas as pd \n",
        "from sklearn.metrics import mean_squared_error, r2_score\n",
        "from sklearn.model_selection import (GridSearchCV, RandomizedSearchCV,\n",
        "                                     train_test_split)\n",
        "from sklearn.ensemble import GradientBoostingRegressor\n",
        "\n",
        "from sklearn.dummy import DummyRegressor\n",
        "import numpy as np\n",
        "import matplotlib.pyplot as plt"
      ],
      "execution_count": 73,
      "outputs": []
    },
    {
      "cell_type": "code",
      "metadata": {
        "id": "VT5KfIScGS-c"
      },
      "source": [
        "def filter_model_columns(df: pd.DataFrame):\n",
        "    exclude_cols = ['placekey',\n",
        "                    'brands',\n",
        "                    'latitude',\n",
        "                    'longitude',\n",
        "                    'street_address',\n",
        "                    'date',\n",
        "                    'week_day',\n",
        "                    'is_weekend',\n",
        "                    'number_devices_residing',\n",
        "                    'postal_code',\n",
        "                    'cbg_income',\n",
        "                    'poi_cbg',\n",
        "                    'is_holiday',\n",
        "                    'population',\n",
        "                    'month',\n",
        "                    'year']\n",
        "    cols = [col for col in df.columns if col not in exclude_cols]\n",
        "    return df[cols]"
      ],
      "execution_count": 2,
      "outputs": []
    },
    {
      "cell_type": "code",
      "metadata": {
        "id": "dQsJMlySCP-Z"
      },
      "source": [
        "df_original = pd.read_csv(\"testing.csv\") \n",
        "\n",
        "df = filter_model_columns(df_original)\n",
        "y = df.pop('visits')\n",
        "X = df\n",
        "X_train, X_test, y_train, y_test = train_test_split(X, y, test_size=0.2, shuffle=False)\n",
        "y_test = list(y_test)"
      ],
      "execution_count": 64,
      "outputs": []
    },
    {
      "cell_type": "code",
      "metadata": {
        "colab": {
          "base_uri": "https://localhost:8080/"
        },
        "id": "Uml9tnrKG4SV",
        "outputId": "9a77a25a-ed3f-47a5-9337-67cbe27c756a"
      },
      "source": [
        "params = {'n_estimators': 500,\n",
        "          'max_depth': 5,\n",
        "          'min_samples_split': 5,\n",
        "          'learning_rate': 0.01,\n",
        "          'loss': 'ls'}\n",
        "\n",
        "\n",
        "reg = GradientBoostingRegressor(**params)\n",
        "reg.fit(X_train, y_train)\n"
      ],
      "execution_count": 95,
      "outputs": [
        {
          "output_type": "execute_result",
          "data": {
            "text/plain": [
              "GradientBoostingRegressor(alpha=0.9, ccp_alpha=0.0, criterion='friedman_mse',\n",
              "                          init=None, learning_rate=0.01, loss='ls', max_depth=7,\n",
              "                          max_features=None, max_leaf_nodes=None,\n",
              "                          min_impurity_decrease=0.0, min_impurity_split=None,\n",
              "                          min_samples_leaf=1, min_samples_split=5,\n",
              "                          min_weight_fraction_leaf=0.0, n_estimators=500,\n",
              "                          n_iter_no_change=None, presort='deprecated',\n",
              "                          random_state=None, subsample=1.0, tol=0.0001,\n",
              "                          validation_fraction=0.1, verbose=0, warm_start=False)"
            ]
          },
          "metadata": {
            "tags": []
          },
          "execution_count": 95
        }
      ]
    },
    {
      "cell_type": "code",
      "metadata": {
        "colab": {
          "base_uri": "https://localhost:8080/"
        },
        "id": "k5Xl_3u_Lmn4",
        "outputId": "411755c3-0dd8-442b-da50-1a0ab8d3e72f"
      },
      "source": [
        "y_pred = reg.predict(X_test)\n",
        "train_mse = mean_squared_error(y_train, reg.predict(X_train))\n",
        "test_mse = mean_squared_error(y_test, reg.predict(X_test))\n",
        "print(train_mse)\n",
        "print(test_mse)\n",
        "\n",
        "print(r2_score(y_train, reg.predict(X_train)))\n",
        "print(r2_score(y_test, reg.predict(X_test)))"
      ],
      "execution_count": 96,
      "outputs": [
        {
          "output_type": "stream",
          "text": [
            "2880.279419634511\n",
            "4073.0121927413616\n",
            "0.791872555999704\n",
            "0.7213632158242012\n"
          ],
          "name": "stdout"
        }
      ]
    },
    {
      "cell_type": "code",
      "metadata": {
        "colab": {
          "base_uri": "https://localhost:8080/",
          "height": 441
        },
        "id": "NOeH4OYxm4B9",
        "outputId": "701ac0dc-a685-4fe4-d7cc-60439a066a6f"
      },
      "source": [
        "test_score = np.zeros((params['n_estimators'],), dtype=np.float64)\n",
        "for i, y_pred in enumerate(reg.staged_predict(X_test)):\n",
        "    test_score[i] = reg.loss_(y_test, y_pred)\n",
        "\n",
        "fig = plt.figure(figsize=(6, 6))\n",
        "plt.subplot(1, 1, 1)\n",
        "plt.title('Deviance')\n",
        "plt.plot(np.arange(params['n_estimators']) + 1, reg.train_score_, 'b-',\n",
        "         label='Training Set Deviance')\n",
        "plt.plot(np.arange(params['n_estimators']) + 1, test_score, 'r-',\n",
        "         label='Test Set Deviance')\n",
        "plt.legend(loc='upper right')\n",
        "plt.xlabel('Boosting Iterations')\n",
        "plt.ylabel('Deviance')\n",
        "fig.tight_layout()\n",
        "plt.show()"
      ],
      "execution_count": 97,
      "outputs": [
        {
          "output_type": "display_data",
          "data": {
            "image/png": "[encoded data removed]",
            "text/plain": [
              "<Figure size 432x432 with 1 Axes>"
            ]
          },
          "metadata": {
            "tags": [],
            "needs_background": "light"
          }
        }
      ]
    },
    {
      "cell_type": "code",
      "metadata": {
        "colab": {
          "base_uri": "https://localhost:8080/"
        },
        "id": "40shwhpLuzNl",
        "outputId": "e5c135e4-bc53-4675-dce0-9d18e1aa4b0d"
      },
      "source": [
        "print(sum(y_pred)/len(y_pred))\n",
        "print(sum(y_test)/len(y_test))"
      ],
      "execution_count": 98,
      "outputs": [
        {
          "output_type": "stream",
          "text": [
            "119.08751017299625\n",
            "118.4714730847749\n"
          ],
          "name": "stdout"
        }
      ]
    },
    {
      "cell_type": "code",
      "metadata": {
        "colab": {
          "base_uri": "https://localhost:8080/"
        },
        "id": "YbkMyKyEgx45",
        "outputId": "60891c08-e850-485d-ca30-f33f92120ad8"
      },
      "source": [
        "param = {'max_depth':5, 'eta': 0.3, 'objective': 'reg:squarederror', 'eval_metric':'rmse', \n",
        "         'subsample':0.9, 'colsample_bytree':0.5}\n",
        "\n",
        "\n",
        "dtrain = xgb.DMatrix(X_train, label=y_train)\n",
        "bst = xgb.train(params=param, dtrain=dtrain)\n",
        "\n",
        "dtest = xgb.DMatrix(X_test)\n",
        "y_pred = bst.predict(dtest)\n",
        "\n",
        "train_mse = mean_squared_error(y_train, bst.predict(dtrain))\n",
        "test_mse = mean_squared_error(y_test, bst.predict(dtest))\n",
        "print(train_mse)\n",
        "print(test_mse)\n",
        "\n",
        "print(r2_score(y_train, bst.predict(dtrain)))\n",
        "print(r2_score(y_test, bst.predict(dtest)))"
      ],
      "execution_count": 99,
      "outputs": [
        {
          "output_type": "stream",
          "text": [
            "3600.433972925976\n",
            "4011.2131148349586\n",
            "0.7398345747399737\n",
            "0.7255909213939407\n"
          ],
          "name": "stdout"
        }
      ]
    },
    {
      "cell_type": "code",
      "metadata": {
        "colab": {
          "base_uri": "https://localhost:8080/"
        },
        "id": "vaEn_tL6nwWo",
        "outputId": "7986c56b-c0fa-42e6-f2f7-d83f92f673e5"
      },
      "source": [
        "print(sum(y_pred)/len(y_pred))\n",
        "print(sum(y_test)/len(y_test))"
      ],
      "execution_count": 100,
      "outputs": [
        {
          "output_type": "stream",
          "text": [
            "115.93396440386913\n",
            "118.4714730847749\n"
          ],
          "name": "stdout"
        }
      ]
    }
  ]
}