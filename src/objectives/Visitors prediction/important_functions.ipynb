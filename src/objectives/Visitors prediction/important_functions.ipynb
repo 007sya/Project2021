{
 "cells": [
  {
   "cell_type": "code",
   "execution_count": 49,
   "metadata": {},
   "outputs": [],
   "source": [
    "import pandas as pd\n",
    "import json\n",
    "from datetime import datetime\n",
    "import holidays\n",
    "import os\n",
    "from datetime import timedelta\n",
    "import numpy as np"
   ]
  },
  {
   "cell_type": "code",
   "execution_count": 9,
   "metadata": {},
   "outputs": [
    {
     "output_type": "stream",
     "name": "stderr",
     "text": [
      "/Library/Frameworks/Python.framework/Versions/3.8/lib/python3.8/site-packages/IPython/core/interactiveshell.py:3145: DtypeWarning: Columns (7,8,9,17,19,23) have mixed types.Specify dtype option on import or set low_memory=False.\n  has_raised = await self.run_ast_nodes(code_ast.body, cell_name,\n"
     ]
    }
   ],
   "source": [
    "#df filtered by houston, needed to filter by state = TX (NOT IMPLEMENTED)\n",
    "\n",
    "subway = pd.read_csv('/Users/mazcu/Downloads/Subway_Houston_days.csv', encoding=\"utf-8\")"
   ]
  },
  {
   "cell_type": "code",
   "execution_count": 10,
   "metadata": {},
   "outputs": [
    {
     "output_type": "stream",
     "name": "stderr",
     "text": [
      "<ipython-input-10-f7b8fb7eba20>:39: SettingWithCopyWarning: \n",
      "A value is trying to be set on a copy of a slice from a DataFrame.\n",
      "Try using .loc[row_indexer,col_indexer] = value instead\n",
      "\n",
      "See the caveats in the documentation: https://pandas.pydata.org/pandas-docs/stable/user_guide/indexing.html#returning-a-view-versus-a-copy\n",
      "  new['visits_last_day'] = l\n",
      "<ipython-input-10-f7b8fb7eba20>:67: SettingWithCopyWarning: \n",
      "A value is trying to be set on a copy of a slice from a DataFrame.\n",
      "Try using .loc[row_indexer,col_indexer] = value instead\n",
      "\n",
      "See the caveats in the documentation: https://pandas.pydata.org/pandas-docs/stable/user_guide/indexing.html#returning-a-view-versus-a-copy\n",
      "  new['visits_last_week'] = l\n"
     ]
    }
   ],
   "source": [
    "def is_weekend(df):\n",
    "    df['date'] = pd.to_datetime(df['date']) \n",
    "\n",
    "    df['is_weekend'] = df['date'].dt.day_name()\n",
    "    df.loc[df['is_weekend'] == \"Saturday\", 'is_weekend'] = 1\n",
    "    df.loc[df['is_weekend'] == \"Sunday\", 'is_weekend'] = 1\n",
    "    df.loc[df['is_weekend'] == \"Monday\", 'is_weekend'] = 0\n",
    "    df.loc[df['is_weekend'] == \"Tuesday\", 'is_weekend'] = 0\n",
    "    df.loc[df['is_weekend'] == \"Wednesday\", 'is_weekend'] = 0\n",
    "    df.loc[df['is_weekend'] == \"Thursday\", 'is_weekend'] = 0\n",
    "    df.loc[df['is_weekend'] == \"Friday\", 'is_weekend'] = 0\n",
    "\n",
    "    return df\n",
    "\n",
    "def is_holiday(df):\n",
    "    holi = holidays.CountryHoliday('US', prov=\"Houston\", state='TX')\n",
    "    df[\"is_holiday\"] = [1 if d in holi else 0 for d in df[\"date\"]]\n",
    "    return df\n",
    "\n",
    "def last_day(df):\n",
    "    stores = set(df['placekey'])\n",
    "    i = 0\n",
    "    for store in stores:\n",
    "        new = df[df['placekey'] == store]\n",
    "        l = []\n",
    "        \n",
    "        #for row in new.iterrows():\n",
    "        yesterday = new['date'] - timedelta(days = 1)\n",
    "        yesterday = yesterday.dt.strftime('%Y-%m-%d')\n",
    "        set_raro = set(new['date'].dt.strftime('%Y-%m-%d'))\n",
    "        for day in yesterday:\n",
    "            if day in set_raro:\n",
    "                visits = list(new[new['date'] == day]['visits'])\n",
    "                l.append(visits[0])\n",
    "                \n",
    "            else:\n",
    "                l.append(0)\n",
    "        \n",
    "        new['visits_last_day'] = l\n",
    "\n",
    "        if i == 0:\n",
    "            old = new\n",
    "            i += 1\n",
    "        else:\n",
    "            old = pd.concat([old, new])\n",
    "    return old\n",
    "\n",
    "def last_week(df):\n",
    "    stores = set(df['placekey'])\n",
    "    i = 0\n",
    "    for store in stores:\n",
    "        new = df[df['placekey'] == store]\n",
    "        l = []\n",
    "        \n",
    "        #for row in new.iterrows():\n",
    "        yesterday = new['date'] - timedelta(days = 7)\n",
    "        yesterday = yesterday.dt.strftime('%Y-%m-%d')\n",
    "        set_raro = set(new['date'].dt.strftime('%Y-%m-%d'))\n",
    "        for day in yesterday:\n",
    "            if day in set_raro:\n",
    "                visits = list(new[new['date'] == day]['visits'])\n",
    "                l.append(visits[0])\n",
    "                \n",
    "            else:\n",
    "                l.append(0)\n",
    "        \n",
    "        new['visits_last_week'] = l\n",
    "\n",
    "        if i == 0:\n",
    "            old = new\n",
    "            i += 1\n",
    "        else:\n",
    "            old = pd.concat([old, new])\n",
    "    return old\n",
    "\n",
    "subway = is_weekend(subway)\n",
    "subway = is_holiday(subway)\n",
    "subway = last_day(subway)\n",
    "subway = last_week(subway)\n"
   ]
  },
  {
   "cell_type": "code",
   "execution_count": 11,
   "metadata": {},
   "outputs": [
    {
     "output_type": "execute_result",
     "data": {
      "text/plain": [
       "<bound method Series.count of 3441    2020-01-01\n",
       "3442    2020-01-02\n",
       "3443    2020-01-03\n",
       "3444    2020-01-04\n",
       "3445    2020-01-05\n",
       "           ...    \n",
       "90590   2021-03-27\n",
       "90591   2021-03-28\n",
       "90592   2021-03-29\n",
       "90593   2021-03-30\n",
       "90594   2021-03-31\n",
       "Name: date, Length: 92796, dtype: datetime64[ns]>"
      ]
     },
     "metadata": {},
     "execution_count": 11
    }
   ],
   "source": [
    "subway['date'].count"
   ]
  },
  {
   "source": [
    "import os\n",
    "\n",
    "for filename in os.listdir('/Users/mazcu/Downloads/safegraph_open_census_data/data/'): \n",
    "    print(filename)\n",
    "    cosa = pd.read_csv('/Users/mazcu/Downloads/safegraph_open_census_data/data/'+filename, encoding=\"utf-8\")\n",
    "    try:\n",
    "        print(filename, cosa['B19013e1'])\n",
    "    except:\n",
    "        pass"
   ],
   "cell_type": "markdown",
   "metadata": {}
  },
  {
   "cell_type": "code",
   "execution_count": 29,
   "metadata": {},
   "outputs": [],
   "source": [
    "cosa = pd.read_csv('/Users/mazcu/Downloads/safegraph_open_census_data/data/cbg_b19.csv', encoding=\"utf-8\", dtype = {\"census_block_group\": \"category\"})\n"
   ]
  },
  {
   "cell_type": "code",
   "execution_count": 13,
   "metadata": {},
   "outputs": [],
   "source": [
    "df = subway\n",
    "\n",
    "df['poi_cbg'] = df['poi_cbg'].map(int)\n",
    "df['poi_cbg'] = df['poi_cbg'].map(str)\n"
   ]
  },
  {
   "cell_type": "code",
   "execution_count": 18,
   "metadata": {},
   "outputs": [],
   "source": [
    "new = df[df['region'] == 'TX']\n",
    "cbgs = set(new['poi_cbg'])"
   ]
  },
  {
   "cell_type": "code",
   "execution_count": 31,
   "metadata": {},
   "outputs": [],
   "source": [
    "cosa = cosa[cosa['census_block_group'].isin(cbgs)]\n",
    "cosa = cosa[['census_block_group', 'B19013e1']]"
   ]
  },
  {
   "cell_type": "code",
   "execution_count": 54,
   "metadata": {},
   "outputs": [],
   "source": [
    "\"DO NOT EXECUTE, MAZCU IS CURRENTLY WORKING ON THIS\"\n",
    "\n",
    "subway['cbg_income'] = [0]*92796\n",
    "for row in cosa.iterrows():\n",
    "    #print(row[1][0], row[1][1])\n",
    "    subway['cbg_income'] = np.where(str(subway['cbg_income']) == str(row[1][0]), row[1][1], subway['cbg_income'])\n"
   ]
  },
  {
   "cell_type": "code",
   "execution_count": 55,
   "metadata": {},
   "outputs": [
    {
     "output_type": "execute_result",
     "data": {
      "text/plain": [
       "3441     0.0\n",
       "3442     0.0\n",
       "3443     0.0\n",
       "3444     0.0\n",
       "3445     0.0\n",
       "        ... \n",
       "90590    0.0\n",
       "90591    0.0\n",
       "90592    0.0\n",
       "90593    0.0\n",
       "90594    0.0\n",
       "Name: cbg_income, Length: 92796, dtype: float64"
      ]
     },
     "metadata": {},
     "execution_count": 55
    }
   ],
   "source": [
    "subway['cbg_income']"
   ]
  }
 ],
 "metadata": {
  "kernelspec": {
   "display_name": "Python 3",
   "language": "python",
   "name": "python3"
  },
  "language_info": {
   "codemirror_mode": {
    "name": "ipython",
    "version": 3
   },
   "file_extension": ".py",
   "mimetype": "text/x-python",
   "name": "python",
   "nbconvert_exporter": "python",
   "pygments_lexer": "ipython3",
   "version": "3.8.5-final"
  }
 },
 "nbformat": 4,
 "nbformat_minor": 4
}