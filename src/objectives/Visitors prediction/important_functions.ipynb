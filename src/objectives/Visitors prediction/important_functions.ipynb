{
 "cells": [
  {
   "cell_type": "code",
   "execution_count": 119,
   "metadata": {},
   "outputs": [],
   "source": [
    "import pandas as pd\n",
    "import json\n",
    "from datetime import datetime\n",
    "import holidays\n",
    "import os\n",
    "from datetime import timedelta\n",
    "import numpy as np"
   ]
  },
  {
   "cell_type": "code",
   "execution_count": 120,
   "metadata": {},
   "outputs": [
    {
     "output_type": "stream",
     "name": "stderr",
     "text": [
      "/Library/Frameworks/Python.framework/Versions/3.8/lib/python3.8/site-packages/IPython/core/interactiveshell.py:3145: DtypeWarning: Columns (7,8,9,17,19,23) have mixed types.Specify dtype option on import or set low_memory=False.\n  has_raised = await self.run_ast_nodes(code_ast.body, cell_name,\n"
     ]
    }
   ],
   "source": [
    "#df filtered by houston, needed to filter by state = TX (NOT IMPLEMENTED)\n",
    "\n",
    "subway = pd.read_csv('/Users/mazcu/Downloads/Subway_Houston_days.csv', encoding=\"utf-8\")"
   ]
  },
  {
   "cell_type": "code",
   "execution_count": 121,
   "metadata": {},
   "outputs": [
    {
     "output_type": "stream",
     "name": "stderr",
     "text": [
      "<ipython-input-121-79dff71c8c34>:50: SettingWithCopyWarning: \n",
      "A value is trying to be set on a copy of a slice from a DataFrame.\n",
      "Try using .loc[row_indexer,col_indexer] = value instead\n",
      "\n",
      "See the caveats in the documentation: https://pandas.pydata.org/pandas-docs/stable/user_guide/indexing.html#returning-a-view-versus-a-copy\n",
      "  new['visits_last_day'] = l\n",
      "<ipython-input-121-79dff71c8c34>:51: SettingWithCopyWarning: \n",
      "A value is trying to be set on a copy of a slice from a DataFrame.\n",
      "Try using .loc[row_indexer,col_indexer] = value instead\n",
      "\n",
      "See the caveats in the documentation: https://pandas.pydata.org/pandas-docs/stable/user_guide/indexing.html#returning-a-view-versus-a-copy\n",
      "  new['visits_last_week'] = l_week\n",
      "<ipython-input-121-79dff71c8c34>:73: SettingWithCopyWarning: \n",
      "A value is trying to be set on a copy of a slice from a DataFrame.\n",
      "Try using .loc[row_indexer,col_indexer] = value instead\n",
      "\n",
      "See the caveats in the documentation: https://pandas.pydata.org/pandas-docs/stable/user_guide/indexing.html#returning-a-view-versus-a-copy\n",
      "  new['cbg_income'] = [0]*91824\n",
      "<ipython-input-121-79dff71c8c34>:75: SettingWithCopyWarning: \n",
      "A value is trying to be set on a copy of a slice from a DataFrame.\n",
      "Try using .loc[row_indexer,col_indexer] = value instead\n",
      "\n",
      "See the caveats in the documentation: https://pandas.pydata.org/pandas-docs/stable/user_guide/indexing.html#returning-a-view-versus-a-copy\n",
      "  new['cbg_income'] = np.where(new['poi_cbg'] == str(row[1][0]), row[1][1], new['cbg_income'])\n"
     ]
    }
   ],
   "source": [
    "def is_weekend(df):\n",
    "    df['date'] = pd.to_datetime(df['date']) \n",
    "\n",
    "    df['is_weekend'] = df['date'].dt.day_name()\n",
    "    df.loc[df['is_weekend'] == \"Saturday\", 'is_weekend'] = 1\n",
    "    df.loc[df['is_weekend'] == \"Sunday\", 'is_weekend'] = 1\n",
    "    df.loc[df['is_weekend'] == \"Monday\", 'is_weekend'] = 0\n",
    "    df.loc[df['is_weekend'] == \"Tuesday\", 'is_weekend'] = 0\n",
    "    df.loc[df['is_weekend'] == \"Wednesday\", 'is_weekend'] = 0\n",
    "    df.loc[df['is_weekend'] == \"Thursday\", 'is_weekend'] = 0\n",
    "    df.loc[df['is_weekend'] == \"Friday\", 'is_weekend'] = 0\n",
    "\n",
    "    return df\n",
    "\n",
    "def is_holiday(df):\n",
    "    holi = holidays.CountryHoliday('US', prov=\"Houston\", state='TX')\n",
    "    df[\"is_holiday\"] = [1 if d in holi else 0 for d in df[\"date\"]]\n",
    "    return df\n",
    "\n",
    "def last_day_n_week(df):\n",
    "    stores = set(df['placekey'])\n",
    "    i = 0\n",
    "    for store in stores:\n",
    "        new = df[df['placekey'] == store]\n",
    "        l = []\n",
    "        l_week = []\n",
    "        #for row in new.iterrows():\n",
    "        yesterday = new['date'] - timedelta(days = 1)\n",
    "        yesterday = yesterday.dt.strftime('%Y-%m-%d')\n",
    "\n",
    "        week = new['date'] - timedelta(days = 7)\n",
    "        week = week.dt.strftime('%Y-%m-%d')\n",
    "\n",
    "        set_raro = set(new['date'].dt.strftime('%Y-%m-%d'))\n",
    "        for day, other in zip(yesterday, week):\n",
    "            if day in set_raro:\n",
    "                visits = list(new[new['date'] == day]['visits'])\n",
    "                l.append(visits[0])\n",
    "                \n",
    "            else:\n",
    "                l.append(0)\n",
    "            \n",
    "            if other in set_raro:\n",
    "                vis = list(new[new['date'] == other]['visits'])\n",
    "                l_week.append(vis[0])\n",
    "            else:\n",
    "                l_week.append(0)\n",
    "        \n",
    "        \n",
    "        new['visits_last_day'] = l\n",
    "        new['visits_last_week'] = l_week\n",
    "\n",
    "        if i == 0:\n",
    "            old = new\n",
    "            i += 1\n",
    "        else:\n",
    "            old = pd.concat([old, new])\n",
    "    return old\n",
    "\n",
    "def income(df):\n",
    "\n",
    "    cosa = pd.read_csv('data/income.csv', encoding=\"utf-8\", dtype = {\"census_block_group\": \"category\"})\n",
    "\n",
    "    df['poi_cbg'] = df['poi_cbg'].map(int)\n",
    "    df['poi_cbg'] = df['poi_cbg'].map(str)\n",
    "\n",
    "    new = df[df['region'] == 'TX']\n",
    "    cbgs = set(new['poi_cbg'])\n",
    "\n",
    "    cosa = cosa[cosa['census_block_group'].isin(cbgs)]\n",
    "    #cosa = cosa[['census_block_group', 'B19013e1']]\n",
    "\n",
    "    new['cbg_income'] = [0]*91824\n",
    "    for row in cosa.iterrows():\n",
    "        new['cbg_income'] = np.where(new['poi_cbg'] == str(row[1][0]), row[1][1], new['cbg_income'])\n",
    "    \n",
    "    return new\n",
    "\n",
    "def rain(df):\n",
    "    rain_2020 = pd.read_csv('data/rain_houston_2020.csv', sep=';')\n",
    "    rain_2021 = pd.read_csv('data/rain_houston_2021.csv', sep=';')\n",
    "    #df['date'] = df['date'].map(int)\n",
    "    df['date'] = pd.to_datetime(df['date'])\n",
    "    df['date'] = df['date'].dt.strftime('%Y-%m-%d')\n",
    "    df['rain'] = [0]*91824\n",
    "    l = [rain_2020, rain_2021]\n",
    "    for rain_df in l:\n",
    "        for row in rain_df.iterrows():\n",
    "            df['rain'] = np.where(df['date'] == str(row[1][0]), row[1][1], df['rain'])\n",
    "        \n",
    "    return df\n",
    "\n",
    "def population(df):\n",
    "    dat = pd.read_csv('data/population.csv')\n",
    "    cbgs = set(df['poi_cbg'])\n",
    "    dat = dat[dat['census_block_group'].map(str).isin(cbgs)]\n",
    "    dat = dat[['census_block_group', 'B00001e1']]\n",
    "    df['cbg_population'] = [0]*91824\n",
    "    for row in dat.iterrows():\n",
    "        df['cbg_population'] = np.where(df['poi_cbg'].map(str) == str(int(row[1][0])), row[1][1], df['cbg_population'])\n",
    "    return df\n",
    "\n",
    "subway = is_weekend(subway)\n",
    "subway = is_holiday(subway)\n",
    "subway = last_day_n_week(subway)\n",
    "subway = income(subway)\n",
    "subway = rain(subway)\n",
    "subway = population(subway)\n"
   ]
  },
  {
   "cell_type": "code",
   "execution_count": 122,
   "metadata": {},
   "outputs": [
    {
     "output_type": "execute_result",
     "data": {
      "text/plain": [
       "                  placekey                   safegraph_place_id  \\\n",
       "806    zzy-222@8fc-ftt-wc5  sg:708e1ba25d1849a89d62078a44221f81   \n",
       "807    zzy-222@8fc-ftt-wc5  sg:708e1ba25d1849a89d62078a44221f81   \n",
       "808    zzy-222@8fc-ftt-wc5  sg:708e1ba25d1849a89d62078a44221f81   \n",
       "809    zzy-222@8fc-ftt-wc5  sg:708e1ba25d1849a89d62078a44221f81   \n",
       "810    zzy-222@8fc-ftt-wc5  sg:708e1ba25d1849a89d62078a44221f81   \n",
       "...                    ...                                  ...   \n",
       "89753  zzy-223@8fc-ffc-y7q  sg:72d4db38395c4ef292e5a62188778b32   \n",
       "89754  zzy-223@8fc-ffc-y7q  sg:72d4db38395c4ef292e5a62188778b32   \n",
       "89755  zzy-223@8fc-ffc-y7q  sg:72d4db38395c4ef292e5a62188778b32   \n",
       "89756  zzy-223@8fc-ffc-y7q  sg:72d4db38395c4ef292e5a62188778b32   \n",
       "89757  zzy-223@8fc-ffc-y7q  sg:72d4db38395c4ef292e5a62188778b32   \n",
       "\n",
       "           parent_placekey            parent_safegraph_place_id location_name  \\\n",
       "806                    NaN                                  NaN        Subway   \n",
       "807                    NaN                                  NaN        Subway   \n",
       "808                    NaN                                  NaN        Subway   \n",
       "809                    NaN                                  NaN        Subway   \n",
       "810                    NaN                                  NaN        Subway   \n",
       "...                    ...                                  ...           ...   \n",
       "89753  22z-222@8fc-ffc-y7q  sg:3fc3bfd5bb164e49adff737c39dd8b44        Subway   \n",
       "89754  22z-222@8fc-ffc-y7q  sg:3fc3bfd5bb164e49adff737c39dd8b44        Subway   \n",
       "89755  22z-222@8fc-ffc-y7q  sg:3fc3bfd5bb164e49adff737c39dd8b44        Subway   \n",
       "89756  22z-222@8fc-ffc-y7q  sg:3fc3bfd5bb164e49adff737c39dd8b44        Subway   \n",
       "89757  22z-222@8fc-ffc-y7q  sg:3fc3bfd5bb164e49adff737c39dd8b44        Subway   \n",
       "\n",
       "                             safegraph_brand_ids  brands  \\\n",
       "806    SG_BRAND_de80593878cb1673c62a7f338dc7e4e1  Subway   \n",
       "807    SG_BRAND_de80593878cb1673c62a7f338dc7e4e1  Subway   \n",
       "808    SG_BRAND_de80593878cb1673c62a7f338dc7e4e1  Subway   \n",
       "809    SG_BRAND_de80593878cb1673c62a7f338dc7e4e1  Subway   \n",
       "810    SG_BRAND_de80593878cb1673c62a7f338dc7e4e1  Subway   \n",
       "...                                          ...     ...   \n",
       "89753  SG_BRAND_de80593878cb1673c62a7f338dc7e4e1  Subway   \n",
       "89754  SG_BRAND_de80593878cb1673c62a7f338dc7e4e1  Subway   \n",
       "89755  SG_BRAND_de80593878cb1673c62a7f338dc7e4e1  Subway   \n",
       "89756  SG_BRAND_de80593878cb1673c62a7f338dc7e4e1  Subway   \n",
       "89757  SG_BRAND_de80593878cb1673c62a7f338dc7e4e1  Subway   \n",
       "\n",
       "                              top_category                 sub_category  \\\n",
       "806    Restaurants and Other Eating Places  Limited-Service Restaurants   \n",
       "807    Restaurants and Other Eating Places  Limited-Service Restaurants   \n",
       "808    Restaurants and Other Eating Places  Limited-Service Restaurants   \n",
       "809    Restaurants and Other Eating Places  Limited-Service Restaurants   \n",
       "810    Restaurants and Other Eating Places  Limited-Service Restaurants   \n",
       "...                                    ...                          ...   \n",
       "89753                                  NaN                          NaN   \n",
       "89754                                  NaN                          NaN   \n",
       "89755                                  NaN                          NaN   \n",
       "89756                                  NaN                          NaN   \n",
       "89757                                  NaN                          NaN   \n",
       "\n",
       "                                           category_tags  ...  year  visits  \\\n",
       "806    Counter Service,Sandwich Shop,Lunch,Breakfast,...  ...  2020       2   \n",
       "807    Counter Service,Sandwich Shop,Lunch,Breakfast,...  ...  2020       6   \n",
       "808    Counter Service,Sandwich Shop,Lunch,Breakfast,...  ...  2020       6   \n",
       "809    Counter Service,Sandwich Shop,Lunch,Breakfast,...  ...  2020       2   \n",
       "810    Counter Service,Sandwich Shop,Lunch,Breakfast,...  ...  2020       2   \n",
       "...                                                  ...  ...   ...     ...   \n",
       "89753                                                NaN  ...  2021       4   \n",
       "89754                                                NaN  ...  2021       3   \n",
       "89755                                                NaN  ...  2021       5   \n",
       "89756                                                NaN  ...  2021       4   \n",
       "89757                                                NaN  ...  2021      10   \n",
       "\n",
       "       day is_weekend is_holiday visits_last_day  visits_last_week cbg_income  \\\n",
       "806      1          0          1               0                 0    19271.0   \n",
       "807      2          0          0               2                 0    19271.0   \n",
       "808      3          0          0               6                 0    19271.0   \n",
       "809      4          1          0               6                 0    19271.0   \n",
       "810      5          1          0               2                 0    19271.0   \n",
       "...    ...        ...        ...             ...               ...        ...   \n",
       "89753   27          1          0               5                 7   119000.0   \n",
       "89754   28          1          0               4                 1   119000.0   \n",
       "89755   29          0          0               3                 4   119000.0   \n",
       "89756   30          0          0               5                 4   119000.0   \n",
       "89757   31          0          1               4                 9   119000.0   \n",
       "\n",
       "                     rain cbg_population  \n",
       "806                   0,0           61.0  \n",
       "807                 7,112           61.0  \n",
       "808    0,7619999999999999           61.0  \n",
       "809                   0,0           61.0  \n",
       "810                   0,0           61.0  \n",
       "...                   ...            ...  \n",
       "89753                 0,0          324.0  \n",
       "89754                 0,0          324.0  \n",
       "89755               1,778          324.0  \n",
       "89756                 0,0          324.0  \n",
       "89757                 0,0          324.0  \n",
       "\n",
       "[91824 rows x 53 columns]"
      ],
      "text/html": "<div>\n<style scoped>\n    .dataframe tbody tr th:only-of-type {\n        vertical-align: middle;\n    }\n\n    .dataframe tbody tr th {\n        vertical-align: top;\n    }\n\n    .dataframe thead th {\n        text-align: right;\n    }\n</style>\n<table border=\"1\" class=\"dataframe\">\n  <thead>\n    <tr style=\"text-align: right;\">\n      <th></th>\n      <th>placekey</th>\n      <th>safegraph_place_id</th>\n      <th>parent_placekey</th>\n      <th>parent_safegraph_place_id</th>\n      <th>location_name</th>\n      <th>safegraph_brand_ids</th>\n      <th>brands</th>\n      <th>top_category</th>\n      <th>sub_category</th>\n      <th>category_tags</th>\n      <th>...</th>\n      <th>year</th>\n      <th>visits</th>\n      <th>day</th>\n      <th>is_weekend</th>\n      <th>is_holiday</th>\n      <th>visits_last_day</th>\n      <th>visits_last_week</th>\n      <th>cbg_income</th>\n      <th>rain</th>\n      <th>cbg_population</th>\n    </tr>\n  </thead>\n  <tbody>\n    <tr>\n      <th>806</th>\n      <td>zzy-222@8fc-ftt-wc5</td>\n      <td>sg:708e1ba25d1849a89d62078a44221f81</td>\n      <td>NaN</td>\n      <td>NaN</td>\n      <td>Subway</td>\n      <td>SG_BRAND_de80593878cb1673c62a7f338dc7e4e1</td>\n      <td>Subway</td>\n      <td>Restaurants and Other Eating Places</td>\n      <td>Limited-Service Restaurants</td>\n      <td>Counter Service,Sandwich Shop,Lunch,Breakfast,...</td>\n      <td>...</td>\n      <td>2020</td>\n      <td>2</td>\n      <td>1</td>\n      <td>0</td>\n      <td>1</td>\n      <td>0</td>\n      <td>0</td>\n      <td>19271.0</td>\n      <td>0,0</td>\n      <td>61.0</td>\n    </tr>\n    <tr>\n      <th>807</th>\n      <td>zzy-222@8fc-ftt-wc5</td>\n      <td>sg:708e1ba25d1849a89d62078a44221f81</td>\n      <td>NaN</td>\n      <td>NaN</td>\n      <td>Subway</td>\n      <td>SG_BRAND_de80593878cb1673c62a7f338dc7e4e1</td>\n      <td>Subway</td>\n      <td>Restaurants and Other Eating Places</td>\n      <td>Limited-Service Restaurants</td>\n      <td>Counter Service,Sandwich Shop,Lunch,Breakfast,...</td>\n      <td>...</td>\n      <td>2020</td>\n      <td>6</td>\n      <td>2</td>\n      <td>0</td>\n      <td>0</td>\n      <td>2</td>\n      <td>0</td>\n      <td>19271.0</td>\n      <td>7,112</td>\n      <td>61.0</td>\n    </tr>\n    <tr>\n      <th>808</th>\n      <td>zzy-222@8fc-ftt-wc5</td>\n      <td>sg:708e1ba25d1849a89d62078a44221f81</td>\n      <td>NaN</td>\n      <td>NaN</td>\n      <td>Subway</td>\n      <td>SG_BRAND_de80593878cb1673c62a7f338dc7e4e1</td>\n      <td>Subway</td>\n      <td>Restaurants and Other Eating Places</td>\n      <td>Limited-Service Restaurants</td>\n      <td>Counter Service,Sandwich Shop,Lunch,Breakfast,...</td>\n      <td>...</td>\n      <td>2020</td>\n      <td>6</td>\n      <td>3</td>\n      <td>0</td>\n      <td>0</td>\n      <td>6</td>\n      <td>0</td>\n      <td>19271.0</td>\n      <td>0,7619999999999999</td>\n      <td>61.0</td>\n    </tr>\n    <tr>\n      <th>809</th>\n      <td>zzy-222@8fc-ftt-wc5</td>\n      <td>sg:708e1ba25d1849a89d62078a44221f81</td>\n      <td>NaN</td>\n      <td>NaN</td>\n      <td>Subway</td>\n      <td>SG_BRAND_de80593878cb1673c62a7f338dc7e4e1</td>\n      <td>Subway</td>\n      <td>Restaurants and Other Eating Places</td>\n      <td>Limited-Service Restaurants</td>\n      <td>Counter Service,Sandwich Shop,Lunch,Breakfast,...</td>\n      <td>...</td>\n      <td>2020</td>\n      <td>2</td>\n      <td>4</td>\n      <td>1</td>\n      <td>0</td>\n      <td>6</td>\n      <td>0</td>\n      <td>19271.0</td>\n      <td>0,0</td>\n      <td>61.0</td>\n    </tr>\n    <tr>\n      <th>810</th>\n      <td>zzy-222@8fc-ftt-wc5</td>\n      <td>sg:708e1ba25d1849a89d62078a44221f81</td>\n      <td>NaN</td>\n      <td>NaN</td>\n      <td>Subway</td>\n      <td>SG_BRAND_de80593878cb1673c62a7f338dc7e4e1</td>\n      <td>Subway</td>\n      <td>Restaurants and Other Eating Places</td>\n      <td>Limited-Service Restaurants</td>\n      <td>Counter Service,Sandwich Shop,Lunch,Breakfast,...</td>\n      <td>...</td>\n      <td>2020</td>\n      <td>2</td>\n      <td>5</td>\n      <td>1</td>\n      <td>0</td>\n      <td>2</td>\n      <td>0</td>\n      <td>19271.0</td>\n      <td>0,0</td>\n      <td>61.0</td>\n    </tr>\n    <tr>\n      <th>...</th>\n      <td>...</td>\n      <td>...</td>\n      <td>...</td>\n      <td>...</td>\n      <td>...</td>\n      <td>...</td>\n      <td>...</td>\n      <td>...</td>\n      <td>...</td>\n      <td>...</td>\n      <td>...</td>\n      <td>...</td>\n      <td>...</td>\n      <td>...</td>\n      <td>...</td>\n      <td>...</td>\n      <td>...</td>\n      <td>...</td>\n      <td>...</td>\n      <td>...</td>\n      <td>...</td>\n    </tr>\n    <tr>\n      <th>89753</th>\n      <td>zzy-223@8fc-ffc-y7q</td>\n      <td>sg:72d4db38395c4ef292e5a62188778b32</td>\n      <td>22z-222@8fc-ffc-y7q</td>\n      <td>sg:3fc3bfd5bb164e49adff737c39dd8b44</td>\n      <td>Subway</td>\n      <td>SG_BRAND_de80593878cb1673c62a7f338dc7e4e1</td>\n      <td>Subway</td>\n      <td>NaN</td>\n      <td>NaN</td>\n      <td>NaN</td>\n      <td>...</td>\n      <td>2021</td>\n      <td>4</td>\n      <td>27</td>\n      <td>1</td>\n      <td>0</td>\n      <td>5</td>\n      <td>7</td>\n      <td>119000.0</td>\n      <td>0,0</td>\n      <td>324.0</td>\n    </tr>\n    <tr>\n      <th>89754</th>\n      <td>zzy-223@8fc-ffc-y7q</td>\n      <td>sg:72d4db38395c4ef292e5a62188778b32</td>\n      <td>22z-222@8fc-ffc-y7q</td>\n      <td>sg:3fc3bfd5bb164e49adff737c39dd8b44</td>\n      <td>Subway</td>\n      <td>SG_BRAND_de80593878cb1673c62a7f338dc7e4e1</td>\n      <td>Subway</td>\n      <td>NaN</td>\n      <td>NaN</td>\n      <td>NaN</td>\n      <td>...</td>\n      <td>2021</td>\n      <td>3</td>\n      <td>28</td>\n      <td>1</td>\n      <td>0</td>\n      <td>4</td>\n      <td>1</td>\n      <td>119000.0</td>\n      <td>0,0</td>\n      <td>324.0</td>\n    </tr>\n    <tr>\n      <th>89755</th>\n      <td>zzy-223@8fc-ffc-y7q</td>\n      <td>sg:72d4db38395c4ef292e5a62188778b32</td>\n      <td>22z-222@8fc-ffc-y7q</td>\n      <td>sg:3fc3bfd5bb164e49adff737c39dd8b44</td>\n      <td>Subway</td>\n      <td>SG_BRAND_de80593878cb1673c62a7f338dc7e4e1</td>\n      <td>Subway</td>\n      <td>NaN</td>\n      <td>NaN</td>\n      <td>NaN</td>\n      <td>...</td>\n      <td>2021</td>\n      <td>5</td>\n      <td>29</td>\n      <td>0</td>\n      <td>0</td>\n      <td>3</td>\n      <td>4</td>\n      <td>119000.0</td>\n      <td>1,778</td>\n      <td>324.0</td>\n    </tr>\n    <tr>\n      <th>89756</th>\n      <td>zzy-223@8fc-ffc-y7q</td>\n      <td>sg:72d4db38395c4ef292e5a62188778b32</td>\n      <td>22z-222@8fc-ffc-y7q</td>\n      <td>sg:3fc3bfd5bb164e49adff737c39dd8b44</td>\n      <td>Subway</td>\n      <td>SG_BRAND_de80593878cb1673c62a7f338dc7e4e1</td>\n      <td>Subway</td>\n      <td>NaN</td>\n      <td>NaN</td>\n      <td>NaN</td>\n      <td>...</td>\n      <td>2021</td>\n      <td>4</td>\n      <td>30</td>\n      <td>0</td>\n      <td>0</td>\n      <td>5</td>\n      <td>4</td>\n      <td>119000.0</td>\n      <td>0,0</td>\n      <td>324.0</td>\n    </tr>\n    <tr>\n      <th>89757</th>\n      <td>zzy-223@8fc-ffc-y7q</td>\n      <td>sg:72d4db38395c4ef292e5a62188778b32</td>\n      <td>22z-222@8fc-ffc-y7q</td>\n      <td>sg:3fc3bfd5bb164e49adff737c39dd8b44</td>\n      <td>Subway</td>\n      <td>SG_BRAND_de80593878cb1673c62a7f338dc7e4e1</td>\n      <td>Subway</td>\n      <td>NaN</td>\n      <td>NaN</td>\n      <td>NaN</td>\n      <td>...</td>\n      <td>2021</td>\n      <td>10</td>\n      <td>31</td>\n      <td>0</td>\n      <td>1</td>\n      <td>4</td>\n      <td>9</td>\n      <td>119000.0</td>\n      <td>0,0</td>\n      <td>324.0</td>\n    </tr>\n  </tbody>\n</table>\n<p>91824 rows × 53 columns</p>\n</div>"
     },
     "metadata": {},
     "execution_count": 122
    }
   ],
   "source": [
    "subway"
   ]
  },
  {
   "source": [
    "import os\n",
    "\n",
    "for filename in os.listdir('/Users/mazcu/Downloads/safegraph_open_census_data/data/'): \n",
    "    print(filename)\n",
    "    cosa = pd.read_csv('/Users/mazcu/Downloads/safegraph_open_census_data/data/'+filename, encoding=\"utf-8\")\n",
    "    try:\n",
    "        print(filename, cosa['B19013e1'])\n",
    "    except:\n",
    "        pass"
   ],
   "cell_type": "markdown",
   "metadata": {}
  },
  {
   "cell_type": "code",
   "execution_count": 84,
   "metadata": {},
   "outputs": [],
   "source": [
    "cosa = pd.read_csv('/Users/mazcu/Downloads/safegraph_open_census_data/data/cbg_b19.csv', encoding=\"utf-8\", dtype = {\"census_block_group\": \"category\"})\n"
   ]
  },
  {
   "cell_type": "code",
   "execution_count": 8,
   "metadata": {},
   "outputs": [],
   "source": [
    "df = subway\n",
    "\n",
    "df['poi_cbg'] = df['poi_cbg'].map(int)\n",
    "df['poi_cbg'] = df['poi_cbg'].map(str)\n"
   ]
  },
  {
   "cell_type": "code",
   "execution_count": 9,
   "metadata": {},
   "outputs": [],
   "source": [
    "new = df[df['region'] == 'TX']\n",
    "cbgs = set(new['poi_cbg'])"
   ]
  },
  {
   "cell_type": "code",
   "execution_count": 10,
   "metadata": {},
   "outputs": [],
   "source": [
    "cosa = cosa[cosa['census_block_group'].isin(cbgs)]\n",
    "cosa = cosa[['census_block_group', 'B19013e1']]"
   ]
  },
  {
   "cell_type": "code",
   "execution_count": 13,
   "metadata": {},
   "outputs": [],
   "source": [
    "def income(df):\n",
    "\n",
    "    cosa = pd.read_csv('income.csv', encoding=\"utf-8\", dtype = {\"census_block_group\": \"category\"})\n",
    "\n",
    "    df['poi_cbg'] = df['poi_cbg'].map(int)\n",
    "    df['poi_cbg'] = df['poi_cbg'].map(str)\n",
    "\n",
    "    new = df[df['region'] == 'TX']\n",
    "    cbgs = set(new['poi_cbg'])\n",
    "\n",
    "    cosa = cosa[cosa['census_block_group'].isin(cbgs)]\n",
    "    #cosa = cosa[['census_block_group', 'B19013e1']]\n",
    "\n",
    "    df['cbg_income'] = [0]*92796\n",
    "    for row in cosa.iterrows():\n",
    "        df['cbg_income'] = np.where(df['poi_cbg'] == str(row[1][0]), row[1][1], df['cbg_income'])\n",
    "\n",
    "subway = income(subway)"
   ]
  },
  {
   "cell_type": "code",
   "execution_count": 18,
   "metadata": {},
   "outputs": [
    {
     "output_type": "execute_result",
     "data": {
      "text/plain": [
       "806       19271.0\n",
       "807       19271.0\n",
       "808       19271.0\n",
       "809       19271.0\n",
       "810       19271.0\n",
       "           ...   \n",
       "89753    119000.0\n",
       "89754    119000.0\n",
       "89755    119000.0\n",
       "89756    119000.0\n",
       "89757    119000.0\n",
       "Name: cbg_income, Length: 92796, dtype: float64"
      ]
     },
     "metadata": {},
     "execution_count": 18
    }
   ],
   "source": [
    "subway['cbg_income']"
   ]
  },
  {
   "cell_type": "code",
   "execution_count": 44,
   "metadata": {},
   "outputs": [],
   "source": [
    "rain_2020 = pd.read_csv('rain_houston_2020.csv', sep=';')\n",
    "rain_2021 = pd.read_csv('rain_houston_2021.csv', sep=';')"
   ]
  },
  {
   "cell_type": "code",
   "execution_count": 80,
   "metadata": {},
   "outputs": [],
   "source": [
    "def rain(df):\n",
    "    rain_2020 = pd.read_csv('rain_houston_2020.csv', sep=';')\n",
    "    rain_2021 = pd.read_csv('rain_houston_2021.csv', sep=';')\n",
    "    #df['date'] = df['date'].map(int)\n",
    "    df['date'] = pd.to_datetime(df['date'])\n",
    "    df['date'] = df['date'].dt.strftime('%Y-%m-%d')\n",
    "    df['rain'] = [0]*91824\n",
    "    l = [rain_2020, rain_2021]\n",
    "    for rain_df in l:\n",
    "        for row in rain_df.iterrows():\n",
    "            df['rain'] = np.where(df['date'] == str(row[1][0]), row[1][1], df['rain'])\n",
    "        \n",
    "    return df"
   ]
  },
  {
   "cell_type": "code",
   "execution_count": 78,
   "metadata": {},
   "outputs": [],
   "source": [
    "subway['date'] = pd.to_datetime(subway['date'])"
   ]
  },
  {
   "cell_type": "code",
   "execution_count": 79,
   "metadata": {},
   "outputs": [
    {
     "output_type": "execute_result",
     "data": {
      "text/plain": [
       "806      2020-01-01\n",
       "807      2020-01-02\n",
       "808      2020-01-03\n",
       "809      2020-01-04\n",
       "810      2020-01-05\n",
       "            ...    \n",
       "89753    2021-03-27\n",
       "89754    2021-03-28\n",
       "89755    2021-03-29\n",
       "89756    2021-03-30\n",
       "89757    2021-03-31\n",
       "Name: date, Length: 91824, dtype: object"
      ]
     },
     "metadata": {},
     "execution_count": 79
    }
   ],
   "source": [
    "subway['date'].dt.strftime('%Y-%m-%d')"
   ]
  },
  {
   "cell_type": "code",
   "execution_count": 87,
   "metadata": {},
   "outputs": [
    {
     "output_type": "stream",
     "name": "stdout",
     "text": [
      "cbg_c24.csv NO\n",
      "cbg_b20.csv NO\n",
      "cbg_b08.csv NO\n",
      "cbg_b09.csv NO\n",
      "cbg_b21.csv NO\n",
      "cbg_b23.csv NO\n",
      "cbg_b22.csv NO\n",
      "cbg_b27.csv NO\n",
      "cbg_b19.csv NO\n",
      "cbg_b25.csv NO\n",
      "cbg_b01.csv NO\n",
      "cbg_b15.csv NO\n",
      "cbg_b14.csv NO\n",
      "cbg_b00.csv 0          72.0\n",
      "1         173.0\n",
      "2         100.0\n",
      "3         167.0\n",
      "4         184.0\n",
      "          ...  \n",
      "220328     42.0\n",
      "220329    150.0\n",
      "220330     64.0\n",
      "220331    118.0\n",
      "220332     41.0\n",
      "Name: B00001e1, Length: 220333, dtype: float64\n",
      "cbg_b02.csv NO\n",
      "cbg_b03.csv NO\n",
      "cbg_b07.csv NO\n",
      "cbg_b12.csv NO\n",
      "cbg_patterns.csv NO\n",
      "cbg_b11.csv NO\n",
      "cbg_c16.csv NO\n",
      "cbg_c17.csv NO\n",
      "cbg_b99.csv NO\n"
     ]
    }
   ],
   "source": [
    "for csv in os.listdir('/Users/mazcu/Downloads/safegraph_open_census_data/data/'):\n",
    "    test = pd.read_csv('/Users/mazcu/Downloads/safegraph_open_census_data/data/cbg_b00.csv' + csv)\n",
    "    try:\n",
    "        print(csv, test['B00001e1'])\n",
    "    except:\n",
    "        print(csv, 'NO')"
   ]
  },
  {
   "cell_type": "code",
   "execution_count": 95,
   "metadata": {},
   "outputs": [],
   "source": [
    "def population(df):\n",
    "    dat = pd.read_csv('/Users/mazcu/Downloads/safegraph_open_census_data/data/cbg_b00.csv')\n",
    "    cbgs = set(df['poi_cbg'])\n",
    "    dat = dat[dat['census_block_group'].map(str).isin(cbgs)]\n",
    "    dat = dat[['census_block_group', 'B00001e1']]\n",
    "    df['cbg_population'] = [0]*91824\n",
    "    for row in dat.iterrows():\n",
    "        df['cbg_population'] = np.where(df['poi_cbg'].map(str) == str(int(row[1][0])), row[1][1], df['cbg_population'])\n",
    "    return df"
   ]
  },
  {
   "cell_type": "code",
   "execution_count": 103,
   "metadata": {},
   "outputs": [],
   "source": [
    "dat = dat[dat['census_block_group'].map(str).isin(cbgs)]\n",
    "dat = dat[['census_block_group', 'B00001e1']]"
   ]
  },
  {
   "cell_type": "code",
   "execution_count": 115,
   "metadata": {},
   "outputs": [],
   "source": [
    "subway['cbg_population'] = [0]*91824\n",
    "for row in dat.iterrows():\n",
    "    subway['cbg_population'] = np.where(subway['poi_cbg'].map(str) == str(int(row[1][0])), row[1][1], subway['cbg_population'])"
   ]
  },
  {
   "cell_type": "code",
   "execution_count": 118,
   "metadata": {},
   "outputs": [],
   "source": [
    "dat.to_csv('population.csv', index=False)"
   ]
  }
 ],
 "metadata": {
  "kernelspec": {
   "display_name": "Python 3",
   "language": "python",
   "name": "python3"
  },
  "language_info": {
   "codemirror_mode": {
    "name": "ipython",
    "version": 3
   },
   "file_extension": ".py",
   "mimetype": "text/x-python",
   "name": "python",
   "nbconvert_exporter": "python",
   "pygments_lexer": "ipython3",
   "version": "3.8.5-final"
  }
 },
 "nbformat": 4,
 "nbformat_minor": 4
}